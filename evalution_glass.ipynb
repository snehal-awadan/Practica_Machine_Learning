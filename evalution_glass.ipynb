{
 "cells": [
  {
   "cell_type": "code",
   "execution_count": 38,
   "id": "5d6b0597",
   "metadata": {},
   "outputs": [],
   "source": [
    "import pandas as pd\n",
    "import numpy as np\n",
    "from sklearn.preprocessing import LabelEncoder\n",
    "from sklearn.model_selection import train_test_split\n",
    "from sklearn.linear_model import LogisticRegression\n",
    "from sklearn.naive_bayes import GaussianNB\n",
    "from sklearn.metrics import accuracy_score\n",
    "from sklearn.metrics import log_loss\n",
    "from sklearn.metrics import confusion_matrix, classification_report"
   ]
  },
  {
   "cell_type": "code",
   "execution_count": 2,
   "id": "cba39ccc",
   "metadata": {},
   "outputs": [],
   "source": [
    "glass = pd.read_csv(\"Glass.csv\")"
   ]
  },
  {
   "cell_type": "code",
   "execution_count": 9,
   "id": "251a01b1",
   "metadata": {},
   "outputs": [],
   "source": [
    "le = LabelEncoder()\n",
    "y = glass[\"Type\"]\n",
    "X= glass.drop(\"Type\", axis = 1)"
   ]
  },
  {
   "cell_type": "code",
   "execution_count": 14,
   "id": "c1285076",
   "metadata": {},
   "outputs": [],
   "source": [
    "# create training and testing;\n",
    "\n",
    "X_train, X_test, y_train, y_test = train_test_split(X, y, random_state = 24, test_size =0.3, stratify = y)\n"
   ]
  },
  {
   "cell_type": "code",
   "execution_count": 46,
   "id": "4e4776eb",
   "metadata": {},
   "outputs": [
    {
     "name": "stdout",
     "output_type": "stream",
     "text": [
      "[[ 0  2  0  0  0 19]\n",
      " [ 2  2  1  0  0 18]\n",
      " [ 0  1  2  1  0  0]\n",
      " [ 0  0  0  8  0  1]\n",
      " [ 0  0  0  0  3  0]\n",
      " [ 0  1  0  0  0  4]]\n",
      "                                      precision    recall  f1-score   support\n",
      "\n",
      "    building_windows_float_processed       0.00      0.00      0.00        21\n",
      "building_windows_non_float_processed       0.33      0.09      0.14        23\n",
      "                          containers       0.67      0.50      0.57         4\n",
      "                           headlamps       0.89      0.89      0.89         9\n",
      "                           tableware       1.00      1.00      1.00         3\n",
      "     vehicle_windows_float_processed       0.10      0.80      0.17         5\n",
      "\n",
      "                            accuracy                           0.29        65\n",
      "                           macro avg       0.50      0.55      0.46        65\n",
      "                        weighted avg       0.34      0.29      0.27        65\n",
      "\n",
      "0.2923076923076923\n",
      "the log_loss is:  6.392423630618249\n"
     ]
    }
   ],
   "source": [
    "gaussian = GaussianNB()\n",
    "\n",
    "gaussian.fit(X_train,y_train)\n",
    "y_pred = gaussian.predict(X_test)\n",
    "y_pred_prob = gaussian.predict_proba(X_test)\n",
    "\n",
    "# model evaluation;\n",
    "print(confusion_matrix(y_test, y_pred))\n",
    "print(classification_report(y_test, y_pred))\n",
    "print(accuracy_score(y_test, y_pred))\n",
    "\n",
    "print(\"the log_loss is: \",log_loss(y_test, y_pred_prob))"
   ]
  },
  {
   "cell_type": "code",
   "execution_count": 44,
   "id": "beda0cc9",
   "metadata": {},
   "outputs": [],
   "source": [
    "############# logistic regression #######################\n"
   ]
  },
  {
   "cell_type": "code",
   "execution_count": 52,
   "id": "390e95fa",
   "metadata": {},
   "outputs": [
    {
     "name": "stdout",
     "output_type": "stream",
     "text": [
      "accuracy_score:  0.6461538461538462\n",
      "the confusion matix:  [[17  4  0  0  0  0]\n",
      " [ 9 14  0  0  0  0]\n",
      " [ 0  1  2  1  0  0]\n",
      " [ 0  1  0  8  0  0]\n",
      " [ 0  0  0  2  1  0]\n",
      " [ 2  3  0  0  0  0]]\n",
      "log loss is: 1.013442036861935\n"
     ]
    },
    {
     "name": "stderr",
     "output_type": "stream",
     "text": [
      "C:\\Users\\Rohit\\anaconda3\\Lib\\site-packages\\sklearn\\linear_model\\_logistic.py:458: ConvergenceWarning: lbfgs failed to converge (status=1):\n",
      "STOP: TOTAL NO. of ITERATIONS REACHED LIMIT.\n",
      "\n",
      "Increase the number of iterations (max_iter) or scale the data as shown in:\n",
      "    https://scikit-learn.org/stable/modules/preprocessing.html\n",
      "Please also refer to the documentation for alternative solver options:\n",
      "    https://scikit-learn.org/stable/modules/linear_model.html#logistic-regression\n",
      "  n_iter_i = _check_optimize_result(\n"
     ]
    }
   ],
   "source": [
    "lr = LogisticRegression()\n",
    "\n",
    "lr.fit(X_train, y_train)\n",
    "y_pred = lr.predict(X_test)\n",
    "y_pred_prob =lr.predict_proba(X_test)\n",
    "\n",
    "#### evalution model##########\n",
    "\n",
    "print(\"accuracy_score: \",accuracy_score(y_pred,y_test))\n",
    "print(\"the confusion matix: \",confusion_matrix(y_test,y_pred))\n",
    "print(\"log loss is:\", log_loss(y_test,y_pred_prob))\n"
   ]
  },
  {
   "cell_type": "code",
   "execution_count": null,
   "id": "b66ac559",
   "metadata": {},
   "outputs": [],
   "source": []
  }
 ],
 "metadata": {
  "kernelspec": {
   "display_name": "Python 3 (ipykernel)",
   "language": "python",
   "name": "python3"
  },
  "language_info": {
   "codemirror_mode": {
    "name": "ipython",
    "version": 3
   },
   "file_extension": ".py",
   "mimetype": "text/x-python",
   "name": "python",
   "nbconvert_exporter": "python",
   "pygments_lexer": "ipython3",
   "version": "3.11.7"
  }
 },
 "nbformat": 4,
 "nbformat_minor": 5
}
