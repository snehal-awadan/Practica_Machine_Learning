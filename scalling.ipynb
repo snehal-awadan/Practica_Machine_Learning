{
 "cells": [
  {
   "cell_type": "code",
   "execution_count": 1,
   "id": "3467a82a",
   "metadata": {},
   "outputs": [],
   "source": [
    "from sklearn.preprocessing import StandardScaler \n",
    "from sklearn.preprocessing import MinMaxScaler\n",
    "import pandas as pd \n",
    "import numpy as np "
   ]
  },
  {
   "cell_type": "code",
   "execution_count": 9,
   "id": "86b47250",
   "metadata": {},
   "outputs": [
    {
     "name": "stdout",
     "output_type": "stream",
     "text": [
      "[10.   0.3]\n",
      "[0.81649658 0.28284271]\n"
     ]
    },
    {
     "data": {
      "text/plain": [
       "array([[ 0.        , -0.70710678],\n",
       "       [-1.22474487,  1.41421356],\n",
       "       [ 1.22474487, -0.70710678]])"
      ]
     },
     "execution_count": 9,
     "metadata": {},
     "output_type": "execute_result"
    }
   ],
   "source": [
    "a = pd.DataFrame({'x1':[10, 9, 11],\n",
    "                  'x2':[0.1, 0.7, 0.1]})\n",
    "\n",
    "scl_std = StandardScaler()\n",
    "scl_std.fit(a)\n",
    "\n",
    "print(scl_std.mean_)\n",
    "print(scl_std.scale_)\n",
    "\n",
    "scl_std.fit_transform(a)"
   ]
  },
  {
   "cell_type": "code",
   "execution_count": 10,
   "id": "dd1180c2",
   "metadata": {},
   "outputs": [],
   "source": [
    "#################### MIN_MAX ############################"
   ]
  },
  {
   "cell_type": "code",
   "execution_count": 16,
   "id": "3242dfbd",
   "metadata": {},
   "outputs": [
    {
     "name": "stdout",
     "output_type": "stream",
     "text": [
      "[9.  0.1]\n",
      "[11.   0.7]\n"
     ]
    },
    {
     "data": {
      "text/plain": [
       "array([[0.5, 0. ],\n",
       "       [0. , 1. ],\n",
       "       [1. , 0. ]])"
      ]
     },
     "execution_count": 16,
     "metadata": {},
     "output_type": "execute_result"
    }
   ],
   "source": [
    "scl_mm = MinMaxScaler()\n",
    "scl_mm.fit(a)\n",
    "print(scl_mm.data_min_)\n",
    "print(scl_mm.data_max_)\n",
    "\n",
    "scl_mm.transform(a)"
   ]
  },
  {
   "cell_type": "code",
   "execution_count": null,
   "id": "92239101",
   "metadata": {},
   "outputs": [],
   "source": []
  }
 ],
 "metadata": {
  "kernelspec": {
   "display_name": "Python 3 (ipykernel)",
   "language": "python",
   "name": "python3"
  },
  "language_info": {
   "codemirror_mode": {
    "name": "ipython",
    "version": 3
   },
   "file_extension": ".py",
   "mimetype": "text/x-python",
   "name": "python",
   "nbconvert_exporter": "python",
   "pygments_lexer": "ipython3",
   "version": "3.11.7"
  }
 },
 "nbformat": 4,
 "nbformat_minor": 5
}
