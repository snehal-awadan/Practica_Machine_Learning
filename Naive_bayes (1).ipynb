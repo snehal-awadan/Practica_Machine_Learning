{
 "cells": [
  {
   "cell_type": "code",
   "execution_count": 63,
   "id": "e405d17a",
   "metadata": {},
   "outputs": [],
   "source": [
    "import pandas as pd\n",
    "from sklearn.metrics import log_loss, accuracy_score\n",
    "from sklearn.model_selection import train_test_split\n",
    "from sklearn.metrics import roc_curve, roc_auc_score\n",
    "from sklearn.model_selection import StratifiedKFold\n",
    "from sklearn.model_selection import cross_val_score\n",
    "from sklearn.linear_model import LogisticRegression\n",
    "from sklearn.naive_bayes import BernoulliNB"
   ]
  },
  {
   "cell_type": "code",
   "execution_count": 61,
   "id": "cd6e9d1b",
   "metadata": {},
   "outputs": [
    {
     "data": {
      "text/html": [
       "<div>\n",
       "<style scoped>\n",
       "    .dataframe tbody tr th:only-of-type {\n",
       "        vertical-align: middle;\n",
       "    }\n",
       "\n",
       "    .dataframe tbody tr th {\n",
       "        vertical-align: top;\n",
       "    }\n",
       "\n",
       "    .dataframe thead th {\n",
       "        text-align: right;\n",
       "    }\n",
       "</style>\n",
       "<table border=\"1\" class=\"dataframe\">\n",
       "  <thead>\n",
       "    <tr style=\"text-align: right;\">\n",
       "      <th></th>\n",
       "      <th>subjid</th>\n",
       "      <th>age</th>\n",
       "      <th>menopause</th>\n",
       "      <th>tumor-size</th>\n",
       "      <th>inv-nodes</th>\n",
       "      <th>node-caps</th>\n",
       "      <th>deg-malig</th>\n",
       "      <th>breast</th>\n",
       "      <th>breast-quad</th>\n",
       "      <th>irradiat</th>\n",
       "      <th>Class</th>\n",
       "    </tr>\n",
       "  </thead>\n",
       "  <tbody>\n",
       "    <tr>\n",
       "      <th>0</th>\n",
       "      <td>1</td>\n",
       "      <td>40-49</td>\n",
       "      <td>premeno</td>\n",
       "      <td>15 to 19</td>\n",
       "      <td>0 to 2</td>\n",
       "      <td>yes</td>\n",
       "      <td>three</td>\n",
       "      <td>right</td>\n",
       "      <td>left_up</td>\n",
       "      <td>no</td>\n",
       "      <td>recurrence-events</td>\n",
       "    </tr>\n",
       "    <tr>\n",
       "      <th>1</th>\n",
       "      <td>2</td>\n",
       "      <td>50-59</td>\n",
       "      <td>ge40</td>\n",
       "      <td>15 to 19</td>\n",
       "      <td>0 to 2</td>\n",
       "      <td>no</td>\n",
       "      <td>one</td>\n",
       "      <td>right</td>\n",
       "      <td>central</td>\n",
       "      <td>no</td>\n",
       "      <td>no-recurrence-events</td>\n",
       "    </tr>\n",
       "    <tr>\n",
       "      <th>2</th>\n",
       "      <td>3</td>\n",
       "      <td>50-59</td>\n",
       "      <td>ge40</td>\n",
       "      <td>35 to 39</td>\n",
       "      <td>0 to 2</td>\n",
       "      <td>no</td>\n",
       "      <td>two</td>\n",
       "      <td>left</td>\n",
       "      <td>left_low</td>\n",
       "      <td>no</td>\n",
       "      <td>recurrence-events</td>\n",
       "    </tr>\n",
       "    <tr>\n",
       "      <th>3</th>\n",
       "      <td>4</td>\n",
       "      <td>40-49</td>\n",
       "      <td>premeno</td>\n",
       "      <td>35 to 39</td>\n",
       "      <td>0 to 2</td>\n",
       "      <td>yes</td>\n",
       "      <td>three</td>\n",
       "      <td>right</td>\n",
       "      <td>left_low</td>\n",
       "      <td>yes</td>\n",
       "      <td>no-recurrence-events</td>\n",
       "    </tr>\n",
       "    <tr>\n",
       "      <th>4</th>\n",
       "      <td>5</td>\n",
       "      <td>40-49</td>\n",
       "      <td>premeno</td>\n",
       "      <td>30 to 34</td>\n",
       "      <td>3 to 5</td>\n",
       "      <td>yes</td>\n",
       "      <td>two</td>\n",
       "      <td>left</td>\n",
       "      <td>right_up</td>\n",
       "      <td>no</td>\n",
       "      <td>recurrence-events</td>\n",
       "    </tr>\n",
       "    <tr>\n",
       "      <th>...</th>\n",
       "      <td>...</td>\n",
       "      <td>...</td>\n",
       "      <td>...</td>\n",
       "      <td>...</td>\n",
       "      <td>...</td>\n",
       "      <td>...</td>\n",
       "      <td>...</td>\n",
       "      <td>...</td>\n",
       "      <td>...</td>\n",
       "      <td>...</td>\n",
       "      <td>...</td>\n",
       "    </tr>\n",
       "    <tr>\n",
       "      <th>281</th>\n",
       "      <td>282</td>\n",
       "      <td>50-59</td>\n",
       "      <td>ge40</td>\n",
       "      <td>30 to 34</td>\n",
       "      <td>6 to 8</td>\n",
       "      <td>yes</td>\n",
       "      <td>two</td>\n",
       "      <td>left</td>\n",
       "      <td>left_low</td>\n",
       "      <td>no</td>\n",
       "      <td>no-recurrence-events</td>\n",
       "    </tr>\n",
       "    <tr>\n",
       "      <th>282</th>\n",
       "      <td>283</td>\n",
       "      <td>50-59</td>\n",
       "      <td>premeno</td>\n",
       "      <td>25 to 29</td>\n",
       "      <td>3 to 5</td>\n",
       "      <td>yes</td>\n",
       "      <td>two</td>\n",
       "      <td>left</td>\n",
       "      <td>left_low</td>\n",
       "      <td>yes</td>\n",
       "      <td>no-recurrence-events</td>\n",
       "    </tr>\n",
       "    <tr>\n",
       "      <th>283</th>\n",
       "      <td>284</td>\n",
       "      <td>30-39</td>\n",
       "      <td>premeno</td>\n",
       "      <td>30 to 34</td>\n",
       "      <td>6 to 8</td>\n",
       "      <td>yes</td>\n",
       "      <td>two</td>\n",
       "      <td>right</td>\n",
       "      <td>right_up</td>\n",
       "      <td>no</td>\n",
       "      <td>no-recurrence-events</td>\n",
       "    </tr>\n",
       "    <tr>\n",
       "      <th>284</th>\n",
       "      <td>285</td>\n",
       "      <td>50-59</td>\n",
       "      <td>premeno</td>\n",
       "      <td>15 to 19</td>\n",
       "      <td>0 to 2</td>\n",
       "      <td>no</td>\n",
       "      <td>two</td>\n",
       "      <td>right</td>\n",
       "      <td>left_low</td>\n",
       "      <td>no</td>\n",
       "      <td>no-recurrence-events</td>\n",
       "    </tr>\n",
       "    <tr>\n",
       "      <th>285</th>\n",
       "      <td>286</td>\n",
       "      <td>50-59</td>\n",
       "      <td>ge40</td>\n",
       "      <td>40 to 44</td>\n",
       "      <td>0 to 2</td>\n",
       "      <td>no</td>\n",
       "      <td>three</td>\n",
       "      <td>left</td>\n",
       "      <td>right_up</td>\n",
       "      <td>no</td>\n",
       "      <td>no-recurrence-events</td>\n",
       "    </tr>\n",
       "  </tbody>\n",
       "</table>\n",
       "<p>286 rows × 11 columns</p>\n",
       "</div>"
      ],
      "text/plain": [
       "     subjid    age menopause tumor-size inv-nodes node-caps deg-malig breast  \\\n",
       "0         1  40-49   premeno   15 to 19    0 to 2       yes     three  right   \n",
       "1         2  50-59      ge40   15 to 19    0 to 2        no       one  right   \n",
       "2         3  50-59      ge40   35 to 39    0 to 2        no       two   left   \n",
       "3         4  40-49   premeno   35 to 39    0 to 2       yes     three  right   \n",
       "4         5  40-49   premeno   30 to 34    3 to 5       yes       two   left   \n",
       "..      ...    ...       ...        ...       ...       ...       ...    ...   \n",
       "281     282  50-59      ge40   30 to 34    6 to 8       yes       two   left   \n",
       "282     283  50-59   premeno   25 to 29    3 to 5       yes       two   left   \n",
       "283     284  30-39   premeno   30 to 34    6 to 8       yes       two  right   \n",
       "284     285  50-59   premeno   15 to 19    0 to 2        no       two  right   \n",
       "285     286  50-59      ge40   40 to 44    0 to 2        no     three   left   \n",
       "\n",
       "    breast-quad irradiat                 Class  \n",
       "0       left_up       no     recurrence-events  \n",
       "1       central       no  no-recurrence-events  \n",
       "2      left_low       no     recurrence-events  \n",
       "3      left_low      yes  no-recurrence-events  \n",
       "4      right_up       no     recurrence-events  \n",
       "..          ...      ...                   ...  \n",
       "281    left_low       no  no-recurrence-events  \n",
       "282    left_low      yes  no-recurrence-events  \n",
       "283    right_up       no  no-recurrence-events  \n",
       "284    left_low       no  no-recurrence-events  \n",
       "285    right_up       no  no-recurrence-events  \n",
       "\n",
       "[286 rows x 11 columns]"
      ]
     },
     "execution_count": 61,
     "metadata": {},
     "output_type": "execute_result"
    }
   ],
   "source": [
    "cancer = pd.read_csv(\"Cancer.csv\")\n",
    "cancer"
   ]
  },
  {
   "cell_type": "code",
   "execution_count": 54,
   "id": "bdaf5094",
   "metadata": {},
   "outputs": [],
   "source": [
    "# Hot Encoding\n",
    "dum_can = pd.get_dummies(cancer, drop_first=True)\n",
    "y = dum_can['Class_recurrence-events']\n",
    "X = dum_can.drop(['Class_recurrence-events','subjid'],axis=1)"
   ]
  },
  {
   "cell_type": "code",
   "execution_count": 64,
   "id": "7d46d241",
   "metadata": {},
   "outputs": [],
   "source": [
    "nb = BernoulliNB()"
   ]
  },
  {
   "cell_type": "code",
   "execution_count": 65,
   "id": "2a27344f",
   "metadata": {},
   "outputs": [],
   "source": [
    "X_train, X_test, y_train, y_test = train_test_split(X, y,test_size = 0.3, random_state=24,stratify=y)"
   ]
  },
  {
   "cell_type": "code",
   "execution_count": 68,
   "id": "fc736406",
   "metadata": {},
   "outputs": [],
   "source": [
    "nb.fit(X_train, y_train)\n",
    "y_pred = nb.predict(X_test)\n",
    "# Calculating posterior probabilities\n",
    "y_pred_prob = nb.predict_proba(X_test)"
   ]
  },
  {
   "cell_type": "code",
   "execution_count": 69,
   "id": "cba4218a",
   "metadata": {
    "scrolled": true
   },
   "outputs": [
    {
     "name": "stdout",
     "output_type": "stream",
     "text": [
      "0.7790697674418605\n",
      "0.7666666666666666\n",
      "0.5623030780834452\n"
     ]
    }
   ],
   "source": [
    "print(accuracy_score(y_test, y_pred))\n",
    "print(roc_auc_score(y_test, y_pred_prob[:,1]))\n",
    "print(log_loss(y_test, y_pred_prob))"
   ]
  },
  {
   "cell_type": "code",
   "execution_count": null,
   "id": "6e116160",
   "metadata": {},
   "outputs": [],
   "source": [
    "########################## k - fold ########################"
   ]
  },
  {
   "cell_type": "code",
   "execution_count": 49,
   "id": "13b604cd",
   "metadata": {},
   "outputs": [],
   "source": [
    "\n",
    "kfold = StratifiedKFold(n_splits = 5, shuffle = True, random_state = 24)\n"
   ]
  },
  {
   "cell_type": "code",
   "execution_count": 50,
   "id": "0d3570af",
   "metadata": {},
   "outputs": [
    {
     "name": "stdout",
     "output_type": "stream",
     "text": [
      "0.7586206896551724\n"
     ]
    }
   ],
   "source": [
    "# scoring by accuracy\n",
    "\n",
    "res = cross_val_score(nb, X, y, cv = kfold)\n",
    "print(res.mean())\n"
   ]
  },
  {
   "cell_type": "code",
   "execution_count": 51,
   "id": "e3d3be7f",
   "metadata": {},
   "outputs": [
    {
     "name": "stdout",
     "output_type": "stream",
     "text": [
      "0.7141284074605452\n"
     ]
    }
   ],
   "source": [
    "# scoring by roc auc\n",
    "\n",
    "res = cross_val_score(nb, X, y, cv=kfold, scoring = \"roc_auc\")\n",
    "print(res.mean())\n"
   ]
  },
  {
   "cell_type": "code",
   "execution_count": 53,
   "id": "390cc4c0",
   "metadata": {},
   "outputs": [
    {
     "name": "stdout",
     "output_type": "stream",
     "text": [
      "-0.6132467093440803\n"
     ]
    }
   ],
   "source": [
    "# scoring by log loss\n",
    "\n",
    "res = cross_val_score(nb, X, y, cv = kfold, scoring = \"neg_log_loss\")\n",
    "print(res.mean())\n"
   ]
  },
  {
   "cell_type": "code",
   "execution_count": 62,
   "id": "666cf038",
   "metadata": {},
   "outputs": [
    {
     "name": "stdout",
     "output_type": "stream",
     "text": [
      "0.7790697674418605\n",
      "0.7666666666666666\n",
      "0.5623030780834452\n",
      "0.7586206896551724\n",
      "0.7141284074605452\n",
      "-0.6132467093440803\n"
     ]
    }
   ],
   "source": [
    "import pandas as pd\n",
    "from sklearn.model_selection import train_test_split \n",
    "from sklearn.metrics import roc_curve, roc_auc_score\n",
    "from sklearn.naive_bayes import BernoulliNB\n",
    "from sklearn.linear_model import LogisticRegression \n",
    "from sklearn.metrics import log_loss, accuracy_score\n",
    "from sklearn.model_selection import StratifiedKFold\n",
    "from sklearn.model_selection import cross_val_score\n",
    "\n",
    "# Hot Encoding\n",
    "dum_can = pd.get_dummies(cancer, drop_first=True)\n",
    "y = dum_can['Class_recurrence-events']\n",
    "X = dum_can.drop(['Class_recurrence-events','subjid'],\n",
    "                 axis=1)\n",
    "# Instantiating the BernoulliNB class\n",
    "nb = BernoulliNB()\n",
    "X_train, X_test, y_train, y_test = train_test_split(X, y, \n",
    "                                                    test_size = 0.3, \n",
    "                                                    random_state=24,\n",
    "                                                    stratify=y)\n",
    "nb.fit(X_train, y_train)\n",
    "y_pred = nb.predict(X_test)\n",
    "# Calculating posterior probabilities\n",
    "y_pred_prob = nb.predict_proba(X_test)\n",
    "print(accuracy_score(y_test, y_pred))\n",
    "print(roc_auc_score(y_test, y_pred_prob[:,1]))\n",
    "print(log_loss(y_test, y_pred_prob))\n",
    "\n",
    "##### K-Fold\n",
    "kfold = StratifiedKFold(n_splits=5, shuffle=True, random_state=24)\n",
    "### Scoring by accuracy\n",
    "results = cross_val_score(nb, X, y,cv=kfold)\n",
    "print(results.mean())\n",
    "### Scoring by ROC AUC\n",
    "results = cross_val_score(nb, X, y, cv=kfold, scoring='roc_auc')\n",
    "print(results.mean())\n",
    "### Scoring by log loss\n",
    "results = cross_val_score(nb, X, y, \n",
    "                          cv=kfold, \n",
    "                          scoring='neg_log_loss')\n",
    "print(results.mean())"
   ]
  },
  {
   "cell_type": "code",
   "execution_count": null,
   "id": "cf30d616",
   "metadata": {},
   "outputs": [],
   "source": []
  }
 ],
 "metadata": {
  "kernelspec": {
   "display_name": "Python 3 (ipykernel)",
   "language": "python",
   "name": "python3"
  },
  "language_info": {
   "codemirror_mode": {
    "name": "ipython",
    "version": 3
   },
   "file_extension": ".py",
   "mimetype": "text/x-python",
   "name": "python",
   "nbconvert_exporter": "python",
   "pygments_lexer": "ipython3",
   "version": "3.11.7"
  }
 },
 "nbformat": 4,
 "nbformat_minor": 5
}
