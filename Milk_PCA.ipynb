{
 "cells": [
  {
   "cell_type": "code",
   "execution_count": 9,
   "id": "964a13a7",
   "metadata": {},
   "outputs": [],
   "source": [
    "import pandas as pd\n",
    "import numpy as np\n",
    "import matplotlib.pyplot as plt\n",
    "from sklearn.model_selection import train_test_split\n",
    "from sklearn.preprocessing import StandardScaler\n",
    "from sklearn.decomposition import PCA\n"
   ]
  },
  {
   "cell_type": "code",
   "execution_count": 20,
   "id": "713e6b02",
   "metadata": {},
   "outputs": [
    {
     "data": {
      "text/html": [
       "<div>\n",
       "<style scoped>\n",
       "    .dataframe tbody tr th:only-of-type {\n",
       "        vertical-align: middle;\n",
       "    }\n",
       "\n",
       "    .dataframe tbody tr th {\n",
       "        vertical-align: top;\n",
       "    }\n",
       "\n",
       "    .dataframe thead th {\n",
       "        text-align: right;\n",
       "    }\n",
       "</style>\n",
       "<table border=\"1\" class=\"dataframe\">\n",
       "  <thead>\n",
       "    <tr style=\"text-align: right;\">\n",
       "      <th></th>\n",
       "      <th>water</th>\n",
       "      <th>protein</th>\n",
       "      <th>fat</th>\n",
       "      <th>lactose</th>\n",
       "      <th>ash</th>\n",
       "    </tr>\n",
       "    <tr>\n",
       "      <th>Animal</th>\n",
       "      <th></th>\n",
       "      <th></th>\n",
       "      <th></th>\n",
       "      <th></th>\n",
       "      <th></th>\n",
       "    </tr>\n",
       "  </thead>\n",
       "  <tbody>\n",
       "    <tr>\n",
       "      <th>HORSE</th>\n",
       "      <td>90.1</td>\n",
       "      <td>2.6</td>\n",
       "      <td>1.0</td>\n",
       "      <td>6.9</td>\n",
       "      <td>0.35</td>\n",
       "    </tr>\n",
       "    <tr>\n",
       "      <th>ORANGUTAN</th>\n",
       "      <td>88.5</td>\n",
       "      <td>1.4</td>\n",
       "      <td>3.5</td>\n",
       "      <td>6.0</td>\n",
       "      <td>0.24</td>\n",
       "    </tr>\n",
       "    <tr>\n",
       "      <th>MONKEY</th>\n",
       "      <td>88.4</td>\n",
       "      <td>2.2</td>\n",
       "      <td>2.7</td>\n",
       "      <td>6.4</td>\n",
       "      <td>0.18</td>\n",
       "    </tr>\n",
       "    <tr>\n",
       "      <th>DONKEY</th>\n",
       "      <td>90.3</td>\n",
       "      <td>1.7</td>\n",
       "      <td>1.4</td>\n",
       "      <td>6.2</td>\n",
       "      <td>0.40</td>\n",
       "    </tr>\n",
       "    <tr>\n",
       "      <th>HIPPO</th>\n",
       "      <td>90.4</td>\n",
       "      <td>0.6</td>\n",
       "      <td>4.5</td>\n",
       "      <td>4.4</td>\n",
       "      <td>0.10</td>\n",
       "    </tr>\n",
       "    <tr>\n",
       "      <th>CAMEL</th>\n",
       "      <td>87.7</td>\n",
       "      <td>3.5</td>\n",
       "      <td>3.4</td>\n",
       "      <td>4.8</td>\n",
       "      <td>0.71</td>\n",
       "    </tr>\n",
       "    <tr>\n",
       "      <th>BISON</th>\n",
       "      <td>86.9</td>\n",
       "      <td>4.8</td>\n",
       "      <td>1.7</td>\n",
       "      <td>5.7</td>\n",
       "      <td>0.90</td>\n",
       "    </tr>\n",
       "    <tr>\n",
       "      <th>BUFFALO</th>\n",
       "      <td>82.1</td>\n",
       "      <td>5.9</td>\n",
       "      <td>7.9</td>\n",
       "      <td>4.7</td>\n",
       "      <td>0.78</td>\n",
       "    </tr>\n",
       "    <tr>\n",
       "      <th>GUINEA PIG</th>\n",
       "      <td>81.9</td>\n",
       "      <td>7.4</td>\n",
       "      <td>7.2</td>\n",
       "      <td>2.7</td>\n",
       "      <td>0.85</td>\n",
       "    </tr>\n",
       "    <tr>\n",
       "      <th>CAT</th>\n",
       "      <td>81.6</td>\n",
       "      <td>10.1</td>\n",
       "      <td>6.3</td>\n",
       "      <td>4.4</td>\n",
       "      <td>0.75</td>\n",
       "    </tr>\n",
       "    <tr>\n",
       "      <th>FOX</th>\n",
       "      <td>81.6</td>\n",
       "      <td>6.6</td>\n",
       "      <td>5.9</td>\n",
       "      <td>4.9</td>\n",
       "      <td>0.93</td>\n",
       "    </tr>\n",
       "    <tr>\n",
       "      <th>LLAMA</th>\n",
       "      <td>86.5</td>\n",
       "      <td>3.9</td>\n",
       "      <td>3.2</td>\n",
       "      <td>5.6</td>\n",
       "      <td>0.80</td>\n",
       "    </tr>\n",
       "    <tr>\n",
       "      <th>MULE</th>\n",
       "      <td>90.0</td>\n",
       "      <td>2.0</td>\n",
       "      <td>1.8</td>\n",
       "      <td>5.5</td>\n",
       "      <td>0.47</td>\n",
       "    </tr>\n",
       "    <tr>\n",
       "      <th>PIG</th>\n",
       "      <td>82.8</td>\n",
       "      <td>7.1</td>\n",
       "      <td>5.1</td>\n",
       "      <td>3.7</td>\n",
       "      <td>1.10</td>\n",
       "    </tr>\n",
       "    <tr>\n",
       "      <th>ZEBRA</th>\n",
       "      <td>86.2</td>\n",
       "      <td>3.0</td>\n",
       "      <td>4.8</td>\n",
       "      <td>5.3</td>\n",
       "      <td>0.70</td>\n",
       "    </tr>\n",
       "    <tr>\n",
       "      <th>SHEEP</th>\n",
       "      <td>82.0</td>\n",
       "      <td>5.6</td>\n",
       "      <td>6.4</td>\n",
       "      <td>4.7</td>\n",
       "      <td>0.91</td>\n",
       "    </tr>\n",
       "    <tr>\n",
       "      <th>DOG</th>\n",
       "      <td>76.3</td>\n",
       "      <td>9.3</td>\n",
       "      <td>9.5</td>\n",
       "      <td>3.0</td>\n",
       "      <td>1.20</td>\n",
       "    </tr>\n",
       "    <tr>\n",
       "      <th>ELEPHANT</th>\n",
       "      <td>70.7</td>\n",
       "      <td>3.6</td>\n",
       "      <td>17.6</td>\n",
       "      <td>5.6</td>\n",
       "      <td>0.63</td>\n",
       "    </tr>\n",
       "    <tr>\n",
       "      <th>RABBIT</th>\n",
       "      <td>71.3</td>\n",
       "      <td>12.3</td>\n",
       "      <td>13.1</td>\n",
       "      <td>1.9</td>\n",
       "      <td>2.30</td>\n",
       "    </tr>\n",
       "    <tr>\n",
       "      <th>RAT</th>\n",
       "      <td>72.5</td>\n",
       "      <td>9.2</td>\n",
       "      <td>12.6</td>\n",
       "      <td>3.3</td>\n",
       "      <td>1.40</td>\n",
       "    </tr>\n",
       "    <tr>\n",
       "      <th>DEER</th>\n",
       "      <td>65.9</td>\n",
       "      <td>10.4</td>\n",
       "      <td>19.7</td>\n",
       "      <td>2.6</td>\n",
       "      <td>1.40</td>\n",
       "    </tr>\n",
       "    <tr>\n",
       "      <th>REINDEER</th>\n",
       "      <td>64.8</td>\n",
       "      <td>10.7</td>\n",
       "      <td>20.3</td>\n",
       "      <td>2.5</td>\n",
       "      <td>1.40</td>\n",
       "    </tr>\n",
       "    <tr>\n",
       "      <th>WHALE</th>\n",
       "      <td>64.8</td>\n",
       "      <td>11.1</td>\n",
       "      <td>21.2</td>\n",
       "      <td>1.6</td>\n",
       "      <td>1.70</td>\n",
       "    </tr>\n",
       "    <tr>\n",
       "      <th>SEAL</th>\n",
       "      <td>46.4</td>\n",
       "      <td>9.7</td>\n",
       "      <td>42.0</td>\n",
       "      <td>0.0</td>\n",
       "      <td>0.85</td>\n",
       "    </tr>\n",
       "    <tr>\n",
       "      <th>DOLPHIN</th>\n",
       "      <td>44.9</td>\n",
       "      <td>10.6</td>\n",
       "      <td>34.9</td>\n",
       "      <td>0.9</td>\n",
       "      <td>0.53</td>\n",
       "    </tr>\n",
       "  </tbody>\n",
       "</table>\n",
       "</div>"
      ],
      "text/plain": [
       "            water  protein   fat  lactose   ash\n",
       "Animal                                         \n",
       "HORSE        90.1      2.6   1.0      6.9  0.35\n",
       "ORANGUTAN    88.5      1.4   3.5      6.0  0.24\n",
       "MONKEY       88.4      2.2   2.7      6.4  0.18\n",
       "DONKEY       90.3      1.7   1.4      6.2  0.40\n",
       "HIPPO        90.4      0.6   4.5      4.4  0.10\n",
       "CAMEL        87.7      3.5   3.4      4.8  0.71\n",
       "BISON        86.9      4.8   1.7      5.7  0.90\n",
       "BUFFALO      82.1      5.9   7.9      4.7  0.78\n",
       "GUINEA PIG   81.9      7.4   7.2      2.7  0.85\n",
       "CAT          81.6     10.1   6.3      4.4  0.75\n",
       "FOX          81.6      6.6   5.9      4.9  0.93\n",
       "LLAMA        86.5      3.9   3.2      5.6  0.80\n",
       "MULE         90.0      2.0   1.8      5.5  0.47\n",
       "PIG          82.8      7.1   5.1      3.7  1.10\n",
       "ZEBRA        86.2      3.0   4.8      5.3  0.70\n",
       "SHEEP        82.0      5.6   6.4      4.7  0.91\n",
       "DOG          76.3      9.3   9.5      3.0  1.20\n",
       "ELEPHANT     70.7      3.6  17.6      5.6  0.63\n",
       "RABBIT       71.3     12.3  13.1      1.9  2.30\n",
       "RAT          72.5      9.2  12.6      3.3  1.40\n",
       "DEER         65.9     10.4  19.7      2.6  1.40\n",
       "REINDEER     64.8     10.7  20.3      2.5  1.40\n",
       "WHALE        64.8     11.1  21.2      1.6  1.70\n",
       "SEAL         46.4      9.7  42.0      0.0  0.85\n",
       "DOLPHIN      44.9     10.6  34.9      0.9  0.53"
      ]
     },
     "execution_count": 20,
     "metadata": {},
     "output_type": "execute_result"
    }
   ],
   "source": [
    "# make aninal as a index ==> otherwise it will give a error of,\n",
    "# could not convert string to float: 'HORSE'\n",
    "\n",
    "milk = pd.read_csv(\"milk.csv\", index_col = 0)\n",
    "milk"
   ]
  },
  {
   "cell_type": "code",
   "execution_count": 16,
   "id": "a6c9778d",
   "metadata": {},
   "outputs": [],
   "source": [
    "sc = StandardScaler().set_output(transform = \"pandas\")"
   ]
  },
  {
   "cell_type": "code",
   "execution_count": 21,
   "id": "67a22896",
   "metadata": {},
   "outputs": [],
   "source": [
    "sc.fit(milk)\n",
    "m_scaled = sc.transform(milk)"
   ]
  },
  {
   "cell_type": "code",
   "execution_count": 22,
   "id": "722c97bd",
   "metadata": {},
   "outputs": [
    {
     "data": {
      "text/html": [
       "<div>\n",
       "<style scoped>\n",
       "    .dataframe tbody tr th:only-of-type {\n",
       "        vertical-align: middle;\n",
       "    }\n",
       "\n",
       "    .dataframe tbody tr th {\n",
       "        vertical-align: top;\n",
       "    }\n",
       "\n",
       "    .dataframe thead th {\n",
       "        text-align: right;\n",
       "    }\n",
       "</style>\n",
       "<table border=\"1\" class=\"dataframe\">\n",
       "  <thead>\n",
       "    <tr style=\"text-align: right;\">\n",
       "      <th></th>\n",
       "      <th>pca0</th>\n",
       "      <th>pca1</th>\n",
       "      <th>pca2</th>\n",
       "      <th>pca3</th>\n",
       "      <th>pca4</th>\n",
       "    </tr>\n",
       "  </thead>\n",
       "  <tbody>\n",
       "    <tr>\n",
       "      <th>pca0</th>\n",
       "      <td>1.000000e+00</td>\n",
       "      <td>-7.659716e-17</td>\n",
       "      <td>1.350210e-16</td>\n",
       "      <td>-1.436333e-17</td>\n",
       "      <td>0.000000e+00</td>\n",
       "    </tr>\n",
       "    <tr>\n",
       "      <th>pca1</th>\n",
       "      <td>-7.659716e-17</td>\n",
       "      <td>1.000000e+00</td>\n",
       "      <td>1.706851e-16</td>\n",
       "      <td>0.000000e+00</td>\n",
       "      <td>1.187218e-16</td>\n",
       "    </tr>\n",
       "    <tr>\n",
       "      <th>pca2</th>\n",
       "      <td>1.350210e-16</td>\n",
       "      <td>1.706851e-16</td>\n",
       "      <td>1.000000e+00</td>\n",
       "      <td>-1.945009e-16</td>\n",
       "      <td>2.238765e-16</td>\n",
       "    </tr>\n",
       "    <tr>\n",
       "      <th>pca3</th>\n",
       "      <td>-1.436333e-17</td>\n",
       "      <td>0.000000e+00</td>\n",
       "      <td>-1.945009e-16</td>\n",
       "      <td>1.000000e+00</td>\n",
       "      <td>2.226244e-17</td>\n",
       "    </tr>\n",
       "    <tr>\n",
       "      <th>pca4</th>\n",
       "      <td>0.000000e+00</td>\n",
       "      <td>1.187218e-16</td>\n",
       "      <td>2.238765e-16</td>\n",
       "      <td>2.226244e-17</td>\n",
       "      <td>1.000000e+00</td>\n",
       "    </tr>\n",
       "  </tbody>\n",
       "</table>\n",
       "</div>"
      ],
      "text/plain": [
       "              pca0          pca1          pca2          pca3          pca4\n",
       "pca0  1.000000e+00 -7.659716e-17  1.350210e-16 -1.436333e-17  0.000000e+00\n",
       "pca1 -7.659716e-17  1.000000e+00  1.706851e-16  0.000000e+00  1.187218e-16\n",
       "pca2  1.350210e-16  1.706851e-16  1.000000e+00 -1.945009e-16  2.238765e-16\n",
       "pca3 -1.436333e-17  0.000000e+00 -1.945009e-16  1.000000e+00  2.226244e-17\n",
       "pca4  0.000000e+00  1.187218e-16  2.238765e-16  2.226244e-17  1.000000e+00"
      ]
     },
     "execution_count": 22,
     "metadata": {},
     "output_type": "execute_result"
    }
   ],
   "source": [
    "# obj of pca\n",
    "\n",
    "pca = PCA().set_output(transform = \"pandas\")\n",
    "\n",
    "# fit the model in pca;\n",
    "pc = pca.fit_transform(m_scaled)\n",
    "\n",
    "# find correlation;\n",
    "pc.corr()"
   ]
  },
  {
   "cell_type": "code",
   "execution_count": 23,
   "id": "5c67d147",
   "metadata": {},
   "outputs": [
    {
     "data": {
      "text/plain": [
       "pca0    4.040412\n",
       "pca1    0.924372\n",
       "pca2    0.134291\n",
       "pca3    0.102689\n",
       "pca4    0.006570\n",
       "dtype: float64"
      ]
     },
     "execution_count": 23,
     "metadata": {},
     "output_type": "execute_result"
    }
   ],
   "source": [
    "# find covarience \n",
    "\n",
    "pc.var()"
   ]
  },
  {
   "cell_type": "code",
   "execution_count": 24,
   "id": "a5cc9cfa",
   "metadata": {},
   "outputs": [
    {
     "data": {
      "text/plain": [
       "EigResult(eigenvalues=array([4.0404117 , 0.92437238, 0.00656977, 0.13429088, 0.1026886 ]), eigenvectors=array([[-0.47294379,  0.35285509, -0.70967042,  0.36921298,  0.10893632],\n",
       "       [ 0.46657047,  0.32094099, -0.1930657 ,  0.15196177, -0.78672876],\n",
       "       [ 0.44868269, -0.47603724, -0.66831106, -0.30699163,  0.17660367],\n",
       "       [-0.48289116,  0.05951482, -0.11159049, -0.77642589, -0.38468756],\n",
       "       [ 0.35232959,  0.73643513,  0.00118661, -0.378825  ,  0.43590982]]))"
      ]
     },
     "execution_count": 24,
     "metadata": {},
     "output_type": "execute_result"
    }
   ],
   "source": [
    "# find the eigen values and vectors of a sq mat ==> linalg.eig()\n",
    "\n",
    "np.linalg.eig(m_scaled.cov())"
   ]
  },
  {
   "cell_type": "code",
   "execution_count": 27,
   "id": "ee10ba93",
   "metadata": {},
   "outputs": [
    {
     "data": {
      "text/plain": [
       "array([4.0404117 , 0.92437238, 0.13429088, 0.1026886 , 0.00656977])"
      ]
     },
     "execution_count": 27,
     "metadata": {},
     "output_type": "execute_result"
    }
   ],
   "source": [
    "# to a measure of how much of the total variance in the original data is captured by each PC\n",
    "# It essentially tells you how informative a particular PC is in representing the data's variability.\n",
    "\n",
    "pca.explained_variance_\n"
   ]
  },
  {
   "cell_type": "code",
   "execution_count": 28,
   "id": "e789672b",
   "metadata": {},
   "outputs": [
    {
     "data": {
      "text/plain": [
       "array([0.77575905, 0.1774795 , 0.02578385, 0.01971621, 0.0012614 ])"
      ]
     },
     "execution_count": 28,
     "metadata": {},
     "output_type": "execute_result"
    }
   ],
   "source": [
    "# determine how many PC to retain while maximizing the information captured from data. \n",
    "\n",
    "pca.explained_variance_ratio_\n"
   ]
  },
  {
   "cell_type": "code",
   "execution_count": 29,
   "id": "554cc4d9",
   "metadata": {},
   "outputs": [
    {
     "data": {
      "text/plain": [
       "array([77.57590469, 17.74794969,  2.57838496,  1.97162103,  0.12613963])"
      ]
     },
     "execution_count": 29,
     "metadata": {},
     "output_type": "execute_result"
    }
   ],
   "source": [
    "# in %\n",
    "pca.explained_variance_ratio_ * 100"
   ]
  },
  {
   "cell_type": "code",
   "execution_count": 30,
   "id": "65e8588f",
   "metadata": {},
   "outputs": [
    {
     "data": {
      "text/plain": [
       "array([0.77575905, 0.95323854, 0.97902239, 0.9987386 , 1.        ])"
      ]
     },
     "execution_count": 30,
     "metadata": {},
     "output_type": "execute_result"
    }
   ],
   "source": [
    "# find cumulative sum()\n",
    "\n",
    "np.cumsum(pca.explained_variance_ratio_)"
   ]
  },
  {
   "cell_type": "code",
   "execution_count": 31,
   "id": "8b8169a3",
   "metadata": {},
   "outputs": [
    {
     "data": {
      "image/png": "[encoded data removed]",
      "text/plain": [
       "<Figure size 640x480 with 1 Axes>"
      ]
     },
     "metadata": {},
     "output_type": "display_data"
    }
   ],
   "source": [
    "# defind X and y\n",
    "\n",
    "y = np.cumsum(pca.explained_variance_ratio_)\n",
    "X = np.arange(1,6)\n",
    "plt.plot(X,y)\n",
    "plt.show()"
   ]
  },
  {
   "cell_type": "code",
   "execution_count": null,
   "id": "8c0ec569",
   "metadata": {},
   "outputs": [],
   "source": []
  }
 ],
 "metadata": {
  "kernelspec": {
   "display_name": "Python 3 (ipykernel)",
   "language": "python",
   "name": "python3"
  },
  "language_info": {
   "codemirror_mode": {
    "name": "ipython",
    "version": 3
   },
   "file_extension": ".py",
   "mimetype": "text/x-python",
   "name": "python",
   "nbconvert_exporter": "python",
   "pygments_lexer": "ipython3",
   "version": "3.11.7"
  }
 },
 "nbformat": 4,
 "nbformat_minor": 5
}
